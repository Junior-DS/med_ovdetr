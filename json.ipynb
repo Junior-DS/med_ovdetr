{
 "cells": [
  {
   "cell_type": "code",
   "execution_count": 4,
   "metadata": {},
   "outputs": [],
   "source": [
    "import json\n",
    "\n",
    "with open(r\"C:\\Users\\LLY11\\Downloads\\coco_json.json\", \"r\") as file:\n",
    "    data = json.load(file)\n"
   ]
  },
  {
   "cell_type": "code",
   "execution_count": 5,
   "metadata": {},
   "outputs": [
    {
     "name": "stdout",
     "output_type": "stream",
     "text": [
      "<class 'dict'>\n"
     ]
    }
   ],
   "source": [
    "print(type(data))  # Could be dict or list\n"
   ]
  },
  {
   "cell_type": "code",
   "execution_count": 6,
   "metadata": {},
   "outputs": [
    {
     "name": "stdout",
     "output_type": "stream",
     "text": [
      "info\n",
      "licenses\n",
      "images\n",
      "annotations\n",
      "categories\n"
     ]
    }
   ],
   "source": [
    "for item in data:\n",
    "    print(item)\n"
   ]
  },
  {
   "cell_type": "code",
   "execution_count": 7,
   "metadata": {},
   "outputs": [
    {
     "name": "stdout",
     "output_type": "stream",
     "text": [
      "info: {'description': 'COCO 2017 Dataset', 'url': 'http://cocodataset.org', 'version': '1.0', 'year': 2017, 'contributor': 'COCO Consortium', 'date_created': '2017/09/01'}\n",
      "licenses: [{'url': 'http://creativecommons.org/licenses/by-nc-sa/2.0/', 'id': 1, 'name': 'Attribution-NonCommercial-ShareAlike License'}, {'url': 'http://creativecommons.org/licenses/by-nc/2.0/', 'id': 2, 'name': 'Attribution-NonCommercial License'}, {'url': 'http://creativecommons.org/licenses/by-nc-nd/2.0/', 'id': 3, 'name': 'Attribution-NonCommercial-NoDerivs License'}, {'url': 'http://creativecommons.org/licenses/by/2.0/', 'id': 4, 'name': 'Attribution License'}, {'url': 'http://creativecommons.org/licenses/by-sa/2.0/', 'id': 5, 'name': 'Attribution-ShareAlike License'}]\n",
      "images: [{'license': 3, 'file_name': '000000391895.jpg', 'coco_url': 'http://images.cocodataset.org/train2017/000000391895.jpg', 'height': 360, 'width': 640, 'date_captured': '2013-11-14 11:18:45', 'flickr_url': 'http://farm9.staticflickr.com/8186/8119368305_4e622c8349_z.jpg', 'id': 391895}, {'license': 4, 'file_name': '000000522418.jpg', 'coco_url': 'http://images.cocodataset.org/train2017/000000522418.jpg', 'height': 480, 'width': 640, 'date_captured': '2013-11-14 11:38:44', 'flickr_url': 'http://farm1.staticflickr.com/1/127244861_ab0c0381e7_z.jpg', 'id': 522418}, {'license': 3, 'file_name': '000000184613.jpg', 'coco_url': 'http://images.cocodataset.org/train2017/000000184613.jpg', 'height': 336, 'width': 500, 'date_captured': '2013-11-14 12:36:29', 'flickr_url': 'http://farm3.staticflickr.com/2169/2118578392_1193aa04a0_z.jpg', 'id': 184613}, {'license': 3, 'file_name': '000000318219.jpg', 'coco_url': 'http://images.cocodataset.org/train2017/000000318219.jpg', 'height': 640, 'width': 556, 'date_captured': '2013-11-14 13:02:53', 'flickr_url': 'http://farm5.staticflickr.com/4125/5094763076_813ea2751b_z.jpg', 'id': 318219}, {'license': 3, 'file_name': '000000554625.jpg', 'coco_url': 'http://images.cocodataset.org/train2017/000000554625.jpg', 'height': 640, 'width': 426, 'date_captured': '2013-11-14 16:03:19', 'flickr_url': 'http://farm5.staticflickr.com/4086/5094162993_8f59d8a473_z.jpg', 'id': 554625}]\n",
      "annotations: [{'segmentation': [[316.85, 102.67, 308.43, 63.9, 414.61, 35.25, 434.83, 131.32, 321.91, 143.96]], 'area': 9919.646199999997, 'iscrowd': 0, 'image_id': 275781, 'bbox': [308.43, 35.25, 126.4, 108.71], 'category_id': 72, 'id': 28405, 'img_path': 275781}, {'segmentation': [[4.41, 306.84, 6.86, 295.09, 17.14, 269.63, 15.67, 261.31, 10.29, 251.03, 10.29, 243.68, 13.23, 239.28, 22.04, 237.81, 23.02, 233.4, 19.1, 225.57, 22.53, 210.39, 28.89, 204.51, 39.66, 205.98, 47.5, 212.35, 47.99, 221.16, 51.9, 230.46, 53.86, 237.81, 58.27, 240.74, 66.1, 265.71, 63.16, 274.53, 57.29, 276.0, 55.82, 279.42, 59.74, 307.82]], 'area': 4253.954849999999, 'iscrowd': 0, 'image_id': 275781, 'bbox': [4.41, 204.51, 61.69, 103.31], 'category_id': 1, 'id': 189636, 'img_path': 275781}, {'segmentation': [[127.43, 313.37, 124.14, 343.52, 123.05, 349.28, 122.77, 366.83, 128.53, 369.29, 131.27, 361.62, 133.46, 361.34, 145.25, 361.34, 149.91, 338.31, 149.91, 315.28, 138.95, 313.64, 130.17, 314.74]], 'area': 1179.4006499999998, 'iscrowd': 0, 'image_id': 275781, 'bbox': [122.77, 313.37, 27.14, 55.92], 'category_id': 86, 'id': 1669857, 'img_path': 275781}, {'segmentation': [[354.19, 111.38, 355.64, 103.65, 362.64, 99.79, 369.16, 99.79, 371.58, 98.82, 373.99, 100.51, 375.44, 96.89, 367.23, 90.61, 365.78, 77.81, 370.85, 66.71, 375.92, 64.78, 395.24, 63.57, 408.76, 86.02, 412.86, 99.79, 355.4, 111.86]], 'area': 1633.67815, 'iscrowd': 0, 'image_id': 275781, 'bbox': [354.19, 63.57, 58.67, 48.29], 'category_id': 1, 'id': 1715752, 'img_path': 275781}, {'segmentation': [[328.39, 10.15, 319.77, 206.42, 616.57, 295.45, 639.54, 261.94, 639.54, 74.29, 328.39, 9.19]], 'area': 66958.31444999998, 'iscrowd': 0, 'image_id': 403107, 'bbox': [319.77, 9.19, 319.77, 286.26], 'category_id': 72, 'id': 28473, 'img_path': 403107}]\n",
      "categories: [{'supercategory': 'person', 'id': 1, 'name': 'person', 'split': 'seen'}, {'supercategory': 'vehicle', 'id': 2, 'name': 'bicycle', 'split': 'seen'}, {'supercategory': 'vehicle', 'id': 3, 'name': 'car', 'split': 'seen'}, {'supercategory': 'vehicle', 'id': 4, 'name': 'motorcycle', 'split': 'seen'}, {'supercategory': 'vehicle', 'id': 5, 'name': 'airplane', 'split': 'unseen'}]\n"
     ]
    }
   ],
   "source": [
    "for key, value in data.items():\n",
    "    if isinstance(value, list):  # Ensure the value is a list\n",
    "        print(f\"{key}: {value[:5]}\")  # Print first 5 values\n",
    "    else:\n",
    "        print(f\"{key}: {value}\")  # Print value if it's not a list\n",
    "\n"
   ]
  },
  {
   "cell_type": "code",
   "execution_count": 8,
   "metadata": {},
   "outputs": [],
   "source": [
    "import json\n",
    "\n",
    "with open(r\"dataset\\train.json\", \"r\") as file:\n",
    "    dataa = json.load(file)"
   ]
  },
  {
   "cell_type": "code",
   "execution_count": 9,
   "metadata": {},
   "outputs": [
    {
     "name": "stdout",
     "output_type": "stream",
     "text": [
      "categories: [{'id': 1, 'supercategory': 'none', 'name': 'ascus'}, {'id': 2, 'supercategory': 'none', 'name': 'asch'}, {'id': 3, 'supercategory': 'none', 'name': 'lsil'}, {'id': 4, 'supercategory': 'none', 'name': 'hsil'}, {'id': 5, 'supercategory': 'none', 'name': 'scc'}]\n",
      "type: instances\n",
      "images: [{'file_name': '02859.bmp', 'id': '02859.bmp', 'width': 1174, 'height': 580}, {'file_name': '02144.bmp', 'id': '02144.bmp', 'width': 1082, 'height': 612}, {'file_name': '03845.bmp', 'id': '03845.bmp', 'width': 1175, 'height': 581}, {'file_name': '01494.bmp', 'id': '01494.bmp', 'width': 1249, 'height': 713}, {'file_name': '02479.bmp', 'id': '02479.bmp', 'width': 1082, 'height': 612}]\n",
      "annotations: [{'image_id': '02859.bmp', 'category_id': 4, 'bbox': [366, 66, 99, 106], 'area': 10494, 'iscrowd': 0, 'ignore': 0, 'id': 1}, {'image_id': '02859.bmp', 'category_id': 4, 'bbox': [482, 107, 112, 89], 'area': 9968, 'iscrowd': 0, 'ignore': 0, 'id': 2}, {'image_id': '02859.bmp', 'category_id': 4, 'bbox': [601, 188, 67, 99], 'area': 6633, 'iscrowd': 0, 'ignore': 0, 'id': 3}, {'image_id': '02859.bmp', 'category_id': 4, 'bbox': [660, 235, 86, 71], 'area': 6106, 'iscrowd': 0, 'ignore': 0, 'id': 4}, {'image_id': '02859.bmp', 'category_id': 4, 'bbox': [814, 95, 88, 51], 'area': 4488, 'iscrowd': 0, 'ignore': 0, 'id': 5}]\n"
     ]
    }
   ],
   "source": [
    "for key, value in dataa.items():\n",
    "    if isinstance(value, list):  # Ensure the value is a list\n",
    "        print(f\"{key}: {value[:5]}\")  # Print first 5 values\n",
    "    else:\n",
    "        print(f\"{key}: {value}\")  # Print value if it's not a list\n"
   ]
  },
  {
   "cell_type": "code",
   "execution_count": 11,
   "metadata": {},
   "outputs": [
    {
     "ename": "NameError",
     "evalue": "name '__file__' is not defined",
     "output_type": "error",
     "traceback": [
      "\u001b[1;31m---------------------------------------------------------------------------\u001b[0m",
      "\u001b[1;31mNameError\u001b[0m                                 Traceback (most recent call last)",
      "Cell \u001b[1;32mIn[11], line 4\u001b[0m\n\u001b[0;32m      1\u001b[0m \u001b[38;5;28;01mfrom\u001b[39;00m\u001b[38;5;250m \u001b[39m\u001b[38;5;21;01mpathlib\u001b[39;00m\u001b[38;5;250m \u001b[39m\u001b[38;5;28;01mimport\u001b[39;00m Path\n\u001b[0;32m      2\u001b[0m \u001b[38;5;28;01mimport\u001b[39;00m\u001b[38;5;250m \u001b[39m\u001b[38;5;21;01mos\u001b[39;00m\n\u001b[1;32m----> 4\u001b[0m BASE_DIR \u001b[38;5;241m=\u001b[39m Path(os\u001b[38;5;241m.\u001b[39mpath\u001b[38;5;241m.\u001b[39mdirname(os\u001b[38;5;241m.\u001b[39mpath\u001b[38;5;241m.\u001b[39mabspath(\u001b[38;5;18;43m__file__\u001b[39;49m)))\u001b[38;5;241m.\u001b[39mparent\n\u001b[0;32m      5\u001b[0m \u001b[38;5;28mprint\u001b[39m(BASE_DIR)\n",
      "\u001b[1;31mNameError\u001b[0m: name '__file__' is not defined"
     ]
    }
   ],
   "source": [
    "from pathlib import Path\n",
    "import os\n",
    "\n",
    "BASE_DIR = Path(os.path.dirname(os.path.abspath(__file__))).parent\n",
    "print(BASE_DIR)"
   ]
  },
  {
   "cell_type": "code",
   "execution_count": 1,
   "metadata": {},
   "outputs": [],
   "source": [
    "import os\n",
    "\n",
    "# List of directories to create\n",
    "directories = [\n",
    "    \"cytology_adaptation\\\\data\", \n",
    "    \"cytology_adaptation\\\\configs\", \n",
    "    \"cytology_adaptation\\\\models\", \n",
    "    \"cytology_adaptation\\\\scripts\"\n",
    "]\n",
    "\n",
    "# Create directories\n",
    "for directory in directories:\n",
    "    os.makedirs(directory, exist_ok=True)  # Will create directories and avoid error if they already exist\n"
   ]
  },
  {
   "cell_type": "code",
   "execution_count": null,
   "metadata": {},
   "outputs": [],
   "source": []
  }
 ],
 "metadata": {
  "kernelspec": {
   "display_name": "venv",
   "language": "python",
   "name": "python3"
  },
  "language_info": {
   "codemirror_mode": {
    "name": "ipython",
    "version": 3
   },
   "file_extension": ".py",
   "mimetype": "text/x-python",
   "name": "python",
   "nbconvert_exporter": "python",
   "pygments_lexer": "ipython3",
   "version": "3.8.10"
  }
 },
 "nbformat": 4,
 "nbformat_minor": 2
}
